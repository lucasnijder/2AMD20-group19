{
 "cells": [
  {
   "cell_type": "code",
   "execution_count": 7,
   "metadata": {},
   "outputs": [],
   "source": [
    "import snscrape.modules.twitter as sntwitter\n",
    "import pandas as pd\n",
    "import datetime"
   ]
  },
  {
   "cell_type": "code",
   "execution_count": 17,
   "metadata": {},
   "outputs": [],
   "source": [
    "dates_list = ['15/02/2022','25/01/2022','14/01/2022','18/12/2021','14/12/2021','26/11/2021','12/11/2021','02/11/2021','14/09/2021','13/08/2021','09/07/2021','18/06/2021','28/05/2021','11/05/2021','20/04/2021','13/04/2021','23/03/2021','09/03/2021','23/02/2021','02/02/2021','20/01/2021','12/01/2021','14/12/2020','17/11/2020','03/11/2020','13/10/2020','28/09/2020','25/09/2020','01/09/2020','18/08/2020','06/08/2020','24/06/2020','19/05/2020','06/05/2020','21/04/2020','31/03/2020','23/03/2020','15/03/2020','12/03/2020']"
   ]
  },
  {
   "cell_type": "code",
   "execution_count": 47,
   "metadata": {},
   "outputs": [],
   "source": [
    "# Creating list to append tweet data to\n",
    "tweets_list = []\n",
    "\n",
    "for date in dates_list:\n",
    "\n",
    "    date_1 = datetime.datetime.strptime(date, \"%d/%m/%Y\")\n",
    "    end_date = date_1 + datetime.timedelta(days=14)\n",
    "    end_date = datetime.datetime.strftime(end_date, \"%d-%m-%Y\")\n",
    "    end_date = str(end_date).replace('-','/')\n",
    "    \n",
    "    for i, tweet in enumerate(sntwitter.TwitterSearchScraper('(corona maatregel) OR (corona maatregelen) OR coronamaatregelen OR coronamaatregel OR coronaregel OR coronaregels OR coronamaatregels OR (corona maatregels) since:{0} until:{1} lang:nl'.format(\n",
    "        date, end_date)).get_items()):\n",
    "        if i>100:\n",
    "            break\n",
    "        tweets_list.append(tweet)\n",
    "    \n",
    "# Creating a dataframe from the tweets list above\n",
    "tweets_df = pd.DataFrame(tweets_list)"
   ]
  },
  {
   "cell_type": "code",
   "execution_count": 46,
   "metadata": {},
   "outputs": [
    {
     "name": "stdout",
     "output_type": "stream",
     "text": [
      "Empty DataFrame\n",
      "Columns: []\n",
      "Index: []\n"
     ]
    }
   ],
   "source": [
    "print(tweets_df)"
   ]
  }
 ],
 "metadata": {
  "interpreter": {
   "hash": "1c2ca4c65c52a8fd8c68085fa6e7fea15935ba92d60d76d84f0cff8490ea2070"
  },
  "kernelspec": {
   "display_name": "Python 3.8.12 ('base')",
   "language": "python",
   "name": "python3"
  },
  "language_info": {
   "codemirror_mode": {
    "name": "ipython",
    "version": 3
   },
   "file_extension": ".py",
   "mimetype": "text/x-python",
   "name": "python",
   "nbconvert_exporter": "python",
   "pygments_lexer": "ipython3",
   "version": "3.8.12"
  },
  "orig_nbformat": 4
 },
 "nbformat": 4,
 "nbformat_minor": 2
}
